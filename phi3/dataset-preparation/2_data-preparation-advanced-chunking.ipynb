{
 "cells": [
  {
   "cell_type": "markdown",
   "id": "1f5a2806-91a2-445c-9738-9dec311bbd78",
   "metadata": {},
   "source": [
    "# Advanced Dataset preparation with chunking\n"
   ]
  },
  {
   "cell_type": "code",
   "execution_count": 2,
   "id": "7520d012-9a1e-45d9-9989-c4a01688a6b3",
   "metadata": {},
   "outputs": [
    {
     "name": "stderr",
     "output_type": "stream",
     "text": [
      "/anaconda/envs/azureml_py310_sdkv2/lib/python3.10/site-packages/tqdm/auto.py:21: TqdmWarning: IProgress not found. Please update jupyter and ipywidgets. See https://ipywidgets.readthedocs.io/en/stable/user_install.html\n",
      "  from .autonotebook import tqdm as notebook_tqdm\n",
      "None of PyTorch, TensorFlow >= 2.0, or Flax have been found. Models won't be available and only tokenizers, configuration and file/data utilities can be used.\n"
     ]
    }
   ],
   "source": [
    "import os\n",
    "import transformers\n",
    "from datasets import load_dataset\n",
    "\n",
    "data_path = \"kyujinpy/KOR-OpenOrca-Platypus-v3\"\n",
    "\n",
    "if data_path.endswith(\".json\") or data_path.endswith(\".jsonl\"):\n",
    "    data = load_dataset(\"json\", data_files=data_path)\n",
    "else:\n",
    "    data = load_dataset(data_path)    "
   ]
  },
  {
   "cell_type": "markdown",
   "id": "91182db1-143a-4b44-9189-a5ba738d668e",
   "metadata": {},
   "source": [
    "<br>\n",
    "\n",
    "## 1. Basic EDA (Exploratory Data Analysis)\n",
    "---\n",
    "\n",
    "Understanding the characteristics of your dataset remains important. For example, even if the model supports a long context such as 128k, if the average dataset text length is 50, you should perform chuking or consider a context model of 4k or less."
   ]
  },
  {
   "cell_type": "code",
   "execution_count": 4,
   "id": "5b62e5b5-ce1f-4915-8379-4766865b92e2",
   "metadata": {},
   "outputs": [
    {
     "data": {
      "text/html": [
       "<div>\n",
       "<style scoped>\n",
       "    .dataframe tbody tr th:only-of-type {\n",
       "        vertical-align: middle;\n",
       "    }\n",
       "\n",
       "    .dataframe tbody tr th {\n",
       "        vertical-align: top;\n",
       "    }\n",
       "\n",
       "    .dataframe thead th {\n",
       "        text-align: right;\n",
       "    }\n",
       "</style>\n",
       "<table border=\"1\" class=\"dataframe\">\n",
       "  <thead>\n",
       "    <tr style=\"text-align: right;\">\n",
       "      <th></th>\n",
       "      <th>id</th>\n",
       "      <th>input</th>\n",
       "      <th>output</th>\n",
       "      <th>instruction</th>\n",
       "    </tr>\n",
       "  </thead>\n",
       "  <tbody>\n",
       "    <tr>\n",
       "      <th>0</th>\n",
       "      <td>ko_platypus.0</td>\n",
       "      <td></td>\n",
       "      <td>모든 가능한 결과의 확률의 합이 1$이므로, 스피너가 $C$에 착륙할 확률을 구하려...</td>\n",
       "      <td>보드 게임 스피너는 $A$, $B$, $C$로 표시된 세 부분으로 나뉩니다. 스피너...</td>\n",
       "    </tr>\n",
       "    <tr>\n",
       "      <th>1</th>\n",
       "      <td>ko_platypus.1</td>\n",
       "      <td></td>\n",
       "      <td>14명 중 6명을 선택해야 하는데 순서는 중요하지 않습니다. 이것은 순열 문제가 아...</td>\n",
       "      <td>저희 학교 수학 클럽에는 남학생 6명과 여학생 8명이 있습니다.  주 수학 경시대회...</td>\n",
       "    </tr>\n",
       "  </tbody>\n",
       "</table>\n",
       "</div>"
      ],
      "text/plain": [
       "              id input                                             output  \\\n",
       "0  ko_platypus.0        모든 가능한 결과의 확률의 합이 1$이므로, 스피너가 $C$에 착륙할 확률을 구하려...   \n",
       "1  ko_platypus.1        14명 중 6명을 선택해야 하는데 순서는 중요하지 않습니다. 이것은 순열 문제가 아...   \n",
       "\n",
       "                                         instruction  \n",
       "0  보드 게임 스피너는 $A$, $B$, $C$로 표시된 세 부분으로 나뉩니다. 스피너...  \n",
       "1  저희 학교 수학 클럽에는 남학생 6명과 여학생 8명이 있습니다.  주 수학 경시대회...  "
      ]
     },
     "execution_count": 4,
     "metadata": {},
     "output_type": "execute_result"
    }
   ],
   "source": [
    "import pandas as pd\n",
    "df = pd.DataFrame(data['train'])\n",
    "df.head(3)"
   ]
  },
  {
   "cell_type": "markdown",
   "id": "a4e7c94e-3aec-4621-ac82-5a1b3528683c",
   "metadata": {
    "tags": []
   },
   "source": [
    "### Basic statistics"
   ]
  },
  {
   "cell_type": "code",
   "execution_count": 6,
   "id": "f41a4b18-73ba-47a4-ae6a-46f5a98ed69f",
   "metadata": {},
   "outputs": [
    {
     "name": "stdout",
     "output_type": "stream",
     "text": [
      "       instruction_length  output_length\n",
      "count        34214.000000   34214.000000\n",
      "mean           368.560589     459.279535\n",
      "std            759.650286     519.266724\n",
      "min             10.000000       0.000000\n",
      "25%             77.000000     137.000000\n",
      "50%            135.000000     311.000000\n",
      "75%            353.000000     598.000000\n",
      "max          18475.000000    8375.000000\n"
     ]
    },
    {
     "data": {
      "text/html": [
       "<div>\n",
       "<style scoped>\n",
       "    .dataframe tbody tr th:only-of-type {\n",
       "        vertical-align: middle;\n",
       "    }\n",
       "\n",
       "    .dataframe tbody tr th {\n",
       "        vertical-align: top;\n",
       "    }\n",
       "\n",
       "    .dataframe thead th {\n",
       "        text-align: right;\n",
       "    }\n",
       "</style>\n",
       "<table border=\"1\" class=\"dataframe\">\n",
       "  <thead>\n",
       "    <tr style=\"text-align: right;\">\n",
       "      <th></th>\n",
       "      <th>id</th>\n",
       "      <th>input</th>\n",
       "      <th>output</th>\n",
       "      <th>instruction</th>\n",
       "      <th>instruction_length</th>\n",
       "      <th>output_length</th>\n",
       "    </tr>\n",
       "  </thead>\n",
       "  <tbody>\n",
       "    <tr>\n",
       "      <th>0</th>\n",
       "      <td>ko_platypus.0</td>\n",
       "      <td></td>\n",
       "      <td>모든 가능한 결과의 확률의 합이 1$이므로, 스피너가 $C$에 착륙할 확률을 구하려...</td>\n",
       "      <td>보드 게임 스피너는 $A$, $B$, $C$로 표시된 세 부분으로 나뉩니다. 스피너...</td>\n",
       "      <td>157</td>\n",
       "      <td>382</td>\n",
       "    </tr>\n",
       "    <tr>\n",
       "      <th>1</th>\n",
       "      <td>ko_platypus.1</td>\n",
       "      <td></td>\n",
       "      <td>14명 중 6명을 선택해야 하는데 순서는 중요하지 않습니다. 이것은 순열 문제가 아...</td>\n",
       "      <td>저희 학교 수학 클럽에는 남학생 6명과 여학생 8명이 있습니다.  주 수학 경시대회...</td>\n",
       "      <td>109</td>\n",
       "      <td>166</td>\n",
       "    </tr>\n",
       "    <tr>\n",
       "      <th>2</th>\n",
       "      <td>ko_platypus.2</td>\n",
       "      <td></td>\n",
       "      <td>먼저 단어에 제한을 두지 않고 4글자로 된 모든 단어의 개수를 세어봅니다. 그런 다...</td>\n",
       "      <td>자음이 하나 이상인 4글자 단어는 $A$, $B$, $C$, $D$, $E$로 몇 ...</td>\n",
       "      <td>129</td>\n",
       "      <td>330</td>\n",
       "    </tr>\n",
       "  </tbody>\n",
       "</table>\n",
       "</div>"
      ],
      "text/plain": [
       "              id input                                             output  \\\n",
       "0  ko_platypus.0        모든 가능한 결과의 확률의 합이 1$이므로, 스피너가 $C$에 착륙할 확률을 구하려...   \n",
       "1  ko_platypus.1        14명 중 6명을 선택해야 하는데 순서는 중요하지 않습니다. 이것은 순열 문제가 아...   \n",
       "2  ko_platypus.2        먼저 단어에 제한을 두지 않고 4글자로 된 모든 단어의 개수를 세어봅니다. 그런 다...   \n",
       "\n",
       "                                         instruction  instruction_length  \\\n",
       "0  보드 게임 스피너는 $A$, $B$, $C$로 표시된 세 부분으로 나뉩니다. 스피너...                 157   \n",
       "1  저희 학교 수학 클럽에는 남학생 6명과 여학생 8명이 있습니다.  주 수학 경시대회...                 109   \n",
       "2  자음이 하나 이상인 4글자 단어는 $A$, $B$, $C$, $D$, $E$로 몇 ...                 129   \n",
       "\n",
       "   output_length  \n",
       "0            382  \n",
       "1            166  \n",
       "2            330  "
      ]
     },
     "execution_count": 6,
     "metadata": {},
     "output_type": "execute_result"
    }
   ],
   "source": [
    "df['instruction_length'] = df['instruction'].apply(len)\n",
    "df['output_length'] = df['output'].apply(len)\n",
    "print(df.describe())\n",
    "df.head(3)"
   ]
  },
  {
   "cell_type": "markdown",
   "id": "55b32407-1aa4-4563-94d5-3fb93cba3e20",
   "metadata": {},
   "source": [
    "### Visualize sentence length"
   ]
  },
  {
   "cell_type": "code",
   "execution_count": 7,
   "id": "2d26d862-c21e-4f7a-ad01-0a740b14aef3",
   "metadata": {},
   "outputs": [
    {
     "data": {
      "image/png": "[encoded data removed]",
      "text/plain": [
       "<Figure size 640x480 with 1 Axes>"
      ]
     },
     "metadata": {},
     "output_type": "display_data"
    }
   ],
   "source": [
    "import matplotlib.pyplot as plt\n",
    "\n",
    "plt.hist(df['instruction_length'], bins=50, alpha=0.5, label='Instruction Length')\n",
    "plt.hist(df['output_length'], bins=50, alpha=0.5, label='Output Length')\n",
    "plt.legend(loc='upper right')\n",
    "plt.show()"
   ]
  },
  {
   "cell_type": "markdown",
   "id": "9f589d04-aa57-497d-9853-3e6a8d33991f",
   "metadata": {},
   "source": [
    "### Unique words and frequency analysis"
   ]
  },
  {
   "cell_type": "code",
   "execution_count": 30,
   "id": "c4ad488a-9e75-4b96-a5fe-64a6a8cfa256",
   "metadata": {},
   "outputs": [
    {
     "name": "stdout",
     "output_type": "stream",
     "text": [
      "The 10 most frequently occurring words:  [('-', 27061), ('수', 25124), ('이', 21921), ('있습니다.', 19122), ('=', 17278), ('있는', 12055), ('대한', 10362), ('두', 10226), ('다음', 9526), ('+', 9234)]\n",
      "The 10 most rare words:  [('세굴이', 1), ('보존이', 1), ('초목의', 1), ('파괴합니다', 1), ('초목을', 1), ('파이어리츠', 1), ('애틀랜틱스', 1), (\"몰'은\", 1), ('능선과', 1), ('침식되기', 1)]\n"
     ]
    }
   ],
   "source": [
    "from collections import Counter\n",
    "\n",
    "# Separate every sentence into words\n",
    "all_words = ' '.join(df['instruction']).split()\n",
    "\n",
    "# Calculate word frequency\n",
    "word_freq = Counter(all_words)\n",
    "\n",
    "# The 10 most frequently occurring words\n",
    "print('The 10 most frequently occurring words: ', word_freq.most_common(10))\n",
    "# The 10 most rare words\n",
    "print('The 10 most rare words: ', word_freq.most_common()[:-11:-1])"
   ]
  },
  {
   "cell_type": "markdown",
   "id": "d135b2b6-188c-4809-bdb3-7b2b91995c2f",
   "metadata": {},
   "source": [
    "<br>\n",
    "\n",
    "## 2. Data preprocessing w/ chunking\n",
    "---\n",
    "\n",
    "**Chuunking** is the process of extracting phrases or “chunks” from unstructured text. While tokenization splits text into individual words, chunking aims to extract meaningful phrases or grammatical units (e.g. noun phrases, verb phrases).\n",
    "\n",
    "Tokenization and chunking are both techniques for text segmentation, but they serve different purposes and are useful for different NLP tasks. Tokenization is generally simpler and faster, but chunking provides deeper understanding. Additionally, tokenization is the process of dividing text into the smallest units, while chunking is the process of grouping these tokens into units with greater meaning or structure."
   ]
  },
  {
   "cell_type": "code",
   "execution_count": 9,
   "id": "82078487-594d-4a96-ae10-5662438e1533",
   "metadata": {},
   "outputs": [],
   "source": [
    "from random import randint\n",
    "from itertools import chain\n",
    "from functools import partial\n",
    "\n",
    "# template dataset to add prompt to each sample\n",
    "def template_dataset(data_point):\n",
    "    full_prompt = prompter.generate_prompt(\n",
    "        data_point[\"instruction\"],\n",
    "        data_point.get(\"input\"),\n",
    "        data_point[\"output\"],\n",
    "    )\n",
    "    data_point['text'] = full_prompt\n",
    "    return data_point\n",
    "\n",
    "def chunk(sample, chunk_length=2048):\n",
    "    # define global remainder variable to save remainder from batches to use in next batch\n",
    "    global remainder\n",
    "    # Concatenate all texts and add remainder from previous batch\n",
    "    concatenated_examples = {k: list(chain(*sample[k])) for k in sample.keys()}\n",
    "    concatenated_examples = {k: remainder[k] + concatenated_examples[k] for k in concatenated_examples.keys()}\n",
    "    # get total number of tokens for batch\n",
    "    batch_total_length = len(concatenated_examples[list(sample.keys())[0]])\n",
    "\n",
    "    # get max number of chunks for batch\n",
    "    if batch_total_length >= chunk_length:\n",
    "        batch_chunk_length = (batch_total_length // chunk_length) * chunk_length\n",
    "\n",
    "    # Split by chunks of max_len.\n",
    "    result = {\n",
    "        k: [t[i : i + chunk_length] for i in range(0, batch_chunk_length, chunk_length)]\n",
    "        for k, t in concatenated_examples.items()\n",
    "    }\n",
    "    # add remainder to global variable for next batch\n",
    "    remainder = {k: concatenated_examples[k][batch_chunk_length:] for k in concatenated_examples.keys()}\n",
    "    # prepare labels\n",
    "    result[\"labels\"] = result[\"input_ids\"].copy()\n",
    "    return result"
   ]
  },
  {
   "cell_type": "code",
   "execution_count": 18,
   "id": "444f2ebd-aa1d-41eb-96ff-3f4b77925316",
   "metadata": {},
   "outputs": [],
   "source": [
    "import json\n",
    "import os.path as osp\n",
    "from typing import Union\n",
    "\n",
    "class Prompter(object):\n",
    "    __slots__ = (\"template\", \"_verbose\")\n",
    "\n",
    "    def __init__(self, template_name: str = \"\", verbose: bool = False):\n",
    "        self._verbose = verbose\n",
    "        if not template_name:\n",
    "            # Enforce the default here, so the constructor can be called with '' and will not break.\n",
    "            template_name = \"alpaca\"\n",
    "        file_name = osp.join(\"./templates\", f\"{template_name}.json\")\n",
    "        if not osp.exists(file_name):\n",
    "            raise ValueError(f\"Can't read {file_name}\")\n",
    "        with open(file_name) as fp:\n",
    "            self.template = json.load(fp)\n",
    "        if self._verbose:\n",
    "            print(\n",
    "                f\"Using prompt template {template_name}: {self.template['description']}\"\n",
    "            )\n",
    "\n",
    "    def generate_prompt(\n",
    "        self,\n",
    "        instruction: str,\n",
    "        input: Union[None, str] = None,\n",
    "        label: Union[None, str] = None,\n",
    "    ) -> str:\n",
    "        # returns the full prompt from instruction and optional input\n",
    "        # if a label (=response, =output) is provided, it's also appended.\n",
    "        if input:\n",
    "            res = self.template[\"prompt_input\"].format(\n",
    "                instruction=instruction, input=input\n",
    "            )\n",
    "        else:\n",
    "            res = self.template[\"prompt_no_input\"].format(\n",
    "                instruction=instruction\n",
    "            )\n",
    "        if label:\n",
    "            res = f\"{res}{label}\"\n",
    "        if self._verbose:\n",
    "            print(res)\n",
    "        return res\n",
    "\n",
    "    def get_response(self, output: str) -> str:\n",
    "        return output.split(self.template[\"response_split\"])[1].strip()"
   ]
  },
  {
   "cell_type": "markdown",
   "id": "a00051f5-ee6e-45ed-bd4c-f9a6173d906f",
   "metadata": {},
   "source": [
    "### Load prompt template and tokenizer\n",
    "\n",
    "Many toolkits, including TRL, preprocess the raw text for you, but in some situations it is necessary to perform tokenization beforehand and store the tokenized vector data in storage."
   ]
  },
  {
   "cell_type": "code",
   "execution_count": 21,
   "id": "cdd26675-cf68-4104-affe-adf096639fe8",
   "metadata": {},
   "outputs": [
    {
     "name": "stderr",
     "output_type": "stream",
     "text": [
      "/anaconda/envs/azureml_py310_sdkv2/lib/python3.10/site-packages/huggingface_hub/file_download.py:1132: FutureWarning: `resume_download` is deprecated and will be removed in version 1.0.0. Downloads always resume when possible. If you want to force a new download, use `force_download=True`.\n",
      "  warnings.warn(\n",
      "Special tokens have been added in the vocabulary, make sure the associated word embeddings are fine-tuned or trained.\n"
     ]
    }
   ],
   "source": [
    "from transformers import AutoTokenizer\n",
    "HF_MODEL_ID = \"microsoft/Phi-3-mini-4k-instruct\"\n",
    "prompter = Prompter(\"alpaca_ko\")\n",
    "tokenizer = AutoTokenizer.from_pretrained(HF_MODEL_ID)"
   ]
  },
  {
   "cell_type": "code",
   "execution_count": 22,
   "id": "482d2254-6764-4163-b46b-7e3e697c6a79",
   "metadata": {},
   "outputs": [
    {
     "name": "stderr",
     "output_type": "stream",
     "text": [
      "Map: 100%|██████████| 34214/34214 [00:04<00:00, 7951.31 examples/s]\n",
      "Map:   0%|          | 0/34214 [00:00<?, ? examples/s]Token indices sequence length is longer than the specified maximum sequence length for this model (4811 > 4096). Running this sequence through the model will result in indexing errors\n",
      "Map: 100%|██████████| 34214/34214 [00:27<00:00, 1251.86 examples/s]\n",
      "Map: 100%|██████████| 34214/34214 [00:45<00:00, 750.45 examples/s]"
     ]
    },
    {
     "name": "stdout",
     "output_type": "stream",
     "text": [
      "Total number of samples: 26684\n"
     ]
    },
    {
     "name": "stderr",
     "output_type": "stream",
     "text": [
      "\n"
     ]
    }
   ],
   "source": [
    "dataset = data['train'].shuffle()#.select(range(200))\n",
    "dataset = dataset.map(template_dataset, remove_columns=list(dataset.features))\n",
    "\n",
    "# empty list to save remainder from batches to use in next batch\n",
    "remainder = {\"input_ids\": [], \"attention_mask\": []}\n",
    "\n",
    "# tokenize and chunk dataset\n",
    "lm_dataset = dataset.map(\n",
    "    lambda sample: tokenizer(sample[\"text\"]), batched=True, remove_columns=list(dataset.features)\n",
    ").map(\n",
    "    partial(chunk, chunk_length=1536),\n",
    "    batched=True,\n",
    ")\n",
    "\n",
    "# Print total number of samples\n",
    "print(f\"Total number of samples: {len(lm_dataset)}\")"
   ]
  },
  {
   "cell_type": "markdown",
   "id": "7505b8d1-504f-4853-a9b7-0727976b9fd2",
   "metadata": {},
   "source": [
    "### Check chunked data"
   ]
  },
  {
   "cell_type": "code",
   "execution_count": 23,
   "id": "a722ed1f-9b94-4489-9721-2e24d2ed8b4c",
   "metadata": {},
   "outputs": [
    {
     "data": {
      "text/html": [
       "<div>\n",
       "<style scoped>\n",
       "    .dataframe tbody tr th:only-of-type {\n",
       "        vertical-align: middle;\n",
       "    }\n",
       "\n",
       "    .dataframe tbody tr th {\n",
       "        vertical-align: top;\n",
       "    }\n",
       "\n",
       "    .dataframe thead th {\n",
       "        text-align: right;\n",
       "    }\n",
       "</style>\n",
       "<table border=\"1\" class=\"dataframe\">\n",
       "  <thead>\n",
       "    <tr style=\"text-align: right;\">\n",
       "      <th></th>\n",
       "      <th>input_ids</th>\n",
       "      <th>attention_mask</th>\n",
       "      <th>labels</th>\n",
       "    </tr>\n",
       "  </thead>\n",
       "  <tbody>\n",
       "    <tr>\n",
       "      <th>0</th>\n",
       "      <td>[1, 29871, 30860, 238, 161, 155, 31081, 29871,...</td>\n",
       "      <td>[1, 1, 1, 1, 1, 1, 1, 1, 1, 1, 1, 1, 1, 1, 1, ...</td>\n",
       "      <td>[1, 29871, 30860, 238, 161, 155, 31081, 29871,...</td>\n",
       "    </tr>\n",
       "    <tr>\n",
       "      <th>1</th>\n",
       "      <td>[30811, 30811, 31826, 29892, 29871, 238, 182, ...</td>\n",
       "      <td>[1, 1, 1, 1, 1, 1, 1, 1, 1, 1, 1, 1, 1, 1, 1, ...</td>\n",
       "      <td>[30811, 30811, 31826, 29892, 29871, 238, 182, ...</td>\n",
       "    </tr>\n",
       "    <tr>\n",
       "      <th>2</th>\n",
       "      <td>[191, 30393, 29871, 240, 156, 131, 30826, 2987...</td>\n",
       "      <td>[1, 1, 1, 1, 1, 1, 1, 1, 1, 1, 1, 1, 1, 1, 1, ...</td>\n",
       "      <td>[191, 30393, 29871, 240, 156, 131, 30826, 2987...</td>\n",
       "    </tr>\n",
       "    <tr>\n",
       "      <th>3</th>\n",
       "      <td>[29871, 29947, 30393, 238, 147, 155, 31136, 23...</td>\n",
       "      <td>[1, 1, 1, 1, 1, 1, 1, 1, 1, 1, 1, 1, 1, 1, 1, ...</td>\n",
       "      <td>[29871, 29947, 30393, 238, 147, 155, 31136, 23...</td>\n",
       "    </tr>\n",
       "    <tr>\n",
       "      <th>4</th>\n",
       "      <td>[30393, 31137, 29892, 285, 29898, 29873, 29892...</td>\n",
       "      <td>[1, 1, 1, 1, 1, 1, 1, 1, 1, 1, 1, 1, 1, 1, 1, ...</td>\n",
       "      <td>[30393, 31137, 29892, 285, 29898, 29873, 29892...</td>\n",
       "    </tr>\n",
       "  </tbody>\n",
       "</table>\n",
       "</div>"
      ],
      "text/plain": [
       "                                           input_ids  \\\n",
       "0  [1, 29871, 30860, 238, 161, 155, 31081, 29871,...   \n",
       "1  [30811, 30811, 31826, 29892, 29871, 238, 182, ...   \n",
       "2  [191, 30393, 29871, 240, 156, 131, 30826, 2987...   \n",
       "3  [29871, 29947, 30393, 238, 147, 155, 31136, 23...   \n",
       "4  [30393, 31137, 29892, 285, 29898, 29873, 29892...   \n",
       "\n",
       "                                      attention_mask  \\\n",
       "0  [1, 1, 1, 1, 1, 1, 1, 1, 1, 1, 1, 1, 1, 1, 1, ...   \n",
       "1  [1, 1, 1, 1, 1, 1, 1, 1, 1, 1, 1, 1, 1, 1, 1, ...   \n",
       "2  [1, 1, 1, 1, 1, 1, 1, 1, 1, 1, 1, 1, 1, 1, 1, ...   \n",
       "3  [1, 1, 1, 1, 1, 1, 1, 1, 1, 1, 1, 1, 1, 1, 1, ...   \n",
       "4  [1, 1, 1, 1, 1, 1, 1, 1, 1, 1, 1, 1, 1, 1, 1, ...   \n",
       "\n",
       "                                              labels  \n",
       "0  [1, 29871, 30860, 238, 161, 155, 31081, 29871,...  \n",
       "1  [30811, 30811, 31826, 29892, 29871, 238, 182, ...  \n",
       "2  [191, 30393, 29871, 240, 156, 131, 30826, 2987...  \n",
       "3  [29871, 29947, 30393, 238, 147, 155, 31136, 23...  \n",
       "4  [30393, 31137, 29892, 285, 29898, 29873, 29892...  "
      ]
     },
     "execution_count": 23,
     "metadata": {},
     "output_type": "execute_result"
    }
   ],
   "source": [
    "df_lm = lm_dataset.to_pandas()\n",
    "df_lm.head(5)"
   ]
  },
  {
   "cell_type": "markdown",
   "id": "0127a0fd-dec3-45f2-9c17-00e2e684e39e",
   "metadata": {},
   "source": [
    "Store the length of each vector in the 'input_ids' column in a new column 'input_ids_length'"
   ]
  },
  {
   "cell_type": "code",
   "execution_count": 31,
   "id": "72f86705-dd6b-48d6-88f3-0c1544112fba",
   "metadata": {},
   "outputs": [
    {
     "data": {
      "text/html": [
       "<div>\n",
       "<style scoped>\n",
       "    .dataframe tbody tr th:only-of-type {\n",
       "        vertical-align: middle;\n",
       "    }\n",
       "\n",
       "    .dataframe tbody tr th {\n",
       "        vertical-align: top;\n",
       "    }\n",
       "\n",
       "    .dataframe thead th {\n",
       "        text-align: right;\n",
       "    }\n",
       "</style>\n",
       "<table border=\"1\" class=\"dataframe\">\n",
       "  <thead>\n",
       "    <tr style=\"text-align: right;\">\n",
       "      <th></th>\n",
       "      <th>input_ids</th>\n",
       "      <th>attention_mask</th>\n",
       "      <th>labels</th>\n",
       "      <th>input_ids_length</th>\n",
       "    </tr>\n",
       "  </thead>\n",
       "  <tbody>\n",
       "    <tr>\n",
       "      <th>0</th>\n",
       "      <td>[1, 29871, 30860, 238, 161, 155, 31081, 29871,...</td>\n",
       "      <td>[1, 1, 1, 1, 1, 1, 1, 1, 1, 1, 1, 1, 1, 1, 1, ...</td>\n",
       "      <td>[1, 29871, 30860, 238, 161, 155, 31081, 29871,...</td>\n",
       "      <td>1536</td>\n",
       "    </tr>\n",
       "    <tr>\n",
       "      <th>1</th>\n",
       "      <td>[30811, 30811, 31826, 29892, 29871, 238, 182, ...</td>\n",
       "      <td>[1, 1, 1, 1, 1, 1, 1, 1, 1, 1, 1, 1, 1, 1, 1, ...</td>\n",
       "      <td>[30811, 30811, 31826, 29892, 29871, 238, 182, ...</td>\n",
       "      <td>1536</td>\n",
       "    </tr>\n",
       "    <tr>\n",
       "      <th>2</th>\n",
       "      <td>[191, 30393, 29871, 240, 156, 131, 30826, 2987...</td>\n",
       "      <td>[1, 1, 1, 1, 1, 1, 1, 1, 1, 1, 1, 1, 1, 1, 1, ...</td>\n",
       "      <td>[191, 30393, 29871, 240, 156, 131, 30826, 2987...</td>\n",
       "      <td>1536</td>\n",
       "    </tr>\n",
       "    <tr>\n",
       "      <th>3</th>\n",
       "      <td>[29871, 29947, 30393, 238, 147, 155, 31136, 23...</td>\n",
       "      <td>[1, 1, 1, 1, 1, 1, 1, 1, 1, 1, 1, 1, 1, 1, 1, ...</td>\n",
       "      <td>[29871, 29947, 30393, 238, 147, 155, 31136, 23...</td>\n",
       "      <td>1536</td>\n",
       "    </tr>\n",
       "    <tr>\n",
       "      <th>4</th>\n",
       "      <td>[30393, 31137, 29892, 285, 29898, 29873, 29892...</td>\n",
       "      <td>[1, 1, 1, 1, 1, 1, 1, 1, 1, 1, 1, 1, 1, 1, 1, ...</td>\n",
       "      <td>[30393, 31137, 29892, 285, 29898, 29873, 29892...</td>\n",
       "      <td>1536</td>\n",
       "    </tr>\n",
       "  </tbody>\n",
       "</table>\n",
       "</div>"
      ],
      "text/plain": [
       "                                           input_ids  \\\n",
       "0  [1, 29871, 30860, 238, 161, 155, 31081, 29871,...   \n",
       "1  [30811, 30811, 31826, 29892, 29871, 238, 182, ...   \n",
       "2  [191, 30393, 29871, 240, 156, 131, 30826, 2987...   \n",
       "3  [29871, 29947, 30393, 238, 147, 155, 31136, 23...   \n",
       "4  [30393, 31137, 29892, 285, 29898, 29873, 29892...   \n",
       "\n",
       "                                      attention_mask  \\\n",
       "0  [1, 1, 1, 1, 1, 1, 1, 1, 1, 1, 1, 1, 1, 1, 1, ...   \n",
       "1  [1, 1, 1, 1, 1, 1, 1, 1, 1, 1, 1, 1, 1, 1, 1, ...   \n",
       "2  [1, 1, 1, 1, 1, 1, 1, 1, 1, 1, 1, 1, 1, 1, 1, ...   \n",
       "3  [1, 1, 1, 1, 1, 1, 1, 1, 1, 1, 1, 1, 1, 1, 1, ...   \n",
       "4  [1, 1, 1, 1, 1, 1, 1, 1, 1, 1, 1, 1, 1, 1, 1, ...   \n",
       "\n",
       "                                              labels  input_ids_length  \n",
       "0  [1, 29871, 30860, 238, 161, 155, 31081, 29871,...              1536  \n",
       "1  [30811, 30811, 31826, 29892, 29871, 238, 182, ...              1536  \n",
       "2  [191, 30393, 29871, 240, 156, 131, 30826, 2987...              1536  \n",
       "3  [29871, 29947, 30393, 238, 147, 155, 31136, 23...              1536  \n",
       "4  [30393, 31137, 29892, 285, 29898, 29873, 29892...              1536  "
      ]
     },
     "execution_count": 31,
     "metadata": {},
     "output_type": "execute_result"
    }
   ],
   "source": [
    "df_lm['input_ids_length'] = df_lm['input_ids'].apply(len)\n",
    "df_lm.head()"
   ]
  },
  {
   "cell_type": "markdown",
   "id": "d8de0209-83a7-45bc-a932-074d20d5039b",
   "metadata": {},
   "source": [
    "Note that the maximum length of the chunking vector is fixed to the set chunk_length windowing size."
   ]
  },
  {
   "cell_type": "code",
   "execution_count": 25,
   "id": "4253cbfc-805c-4a7c-a440-855659a86f20",
   "metadata": {},
   "outputs": [
    {
     "name": "stdout",
     "output_type": "stream",
     "text": [
      "The maximum length of 'input_ids' is 1536\n"
     ]
    }
   ],
   "source": [
    "max_value = df_lm['input_ids_length'].max()\n",
    "print(f\"The maximum length of 'input_ids' is {max_value}\")"
   ]
  },
  {
   "cell_type": "markdown",
   "id": "2f012470-3877-4f1b-b483-7e9aa4316cb2",
   "metadata": {},
   "source": [
    "### Save pre-processed dataset to storage"
   ]
  },
  {
   "cell_type": "code",
   "execution_count": 28,
   "id": "5944f035-5453-4565-9836-36c5867ae5fa",
   "metadata": {},
   "outputs": [
    {
     "name": "stderr",
     "output_type": "stream",
     "text": [
      "Saving the dataset (2/2 shards): 100%|██████████| 26684/26684 [00:03<00:00, 7318.14 examples/s] \n"
     ]
    }
   ],
   "source": [
    "# num_debug_samples = 50\n",
    "DATA_DIR = \"chunked_dataset\"\n",
    "lm_dataset.save_to_disk(DATA_DIR)"
   ]
  }
 ],
 "metadata": {
  "kernelspec": {
   "display_name": "Python 3.10 - SDK v2",
   "language": "python",
   "name": "python310-sdkv2"
  },
  "language_info": {
   "codemirror_mode": {
    "name": "ipython",
    "version": 3
   },
   "file_extension": ".py",
   "mimetype": "text/x-python",
   "name": "python",
   "nbconvert_exporter": "python",
   "pygments_lexer": "ipython3",
   "version": "3.10.11"
  }
 },
 "nbformat": 4,
 "nbformat_minor": 5
}
